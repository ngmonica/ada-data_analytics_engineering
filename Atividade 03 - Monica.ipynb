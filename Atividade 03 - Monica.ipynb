{
 "cells": [
  {
   "attachments": {},
   "cell_type": "markdown",
   "id": "ebfbea4e",
   "metadata": {},
   "source": [
    "# Atividade 3\n",
    "\n",
    "Faça tudo via dbt. \n",
    "\n",
    "Envia como resposta:\n",
    "- A query SQL\n",
    "- Comando utilizado via terminal no `dbt`\n",
    "- Um print do resultado no próprio notebook, para isso é necessário criar uma pasta no repositório onde serão armazenadas as imagens, e para inserir no notebook é necessário criar uma célula `markdown` e inserir o seguinte comando: \n",
    "\n",
    "```markdown\n",
    "![Nome da Foto](path/para/imagem)\n",
    "```"
   ]
  },
  {
   "attachments": {},
   "cell_type": "markdown",
   "id": "c0c42967",
   "metadata": {},
   "source": [
    "1. Crie uma tabela `orders_by_year` a partir de `orders` que agrupa a quantidade de pedidos por ano, considerando a coluna `order_approved_at`"
   ]
  },
  {
   "attachments": {},
   "cell_type": "markdown",
   "id": "dbeab321",
   "metadata": {},
   "source": [
    "A query SQL\n",
    "\n",
    "orders_by_year.sql\n",
    "   \n",
    "   ```sql\n",
    "   {{ config(materialized='table') }}\n",
    "\n",
    "    SELECT\n",
    "        FORMAT_DATE('%Y', order_approved_at) AS year, \n",
    "        count(order_id) AS num_orders \n",
    "    FROM \n",
    "        `dbt_shop.orders` \n",
    "    GROUP BY \n",
    "        1\n",
    "```"
   ]
  },
  {
   "attachments": {},
   "cell_type": "markdown",
   "id": "746c1910",
   "metadata": {},
   "source": [
    "Comando utilizado via terminal no dbt\n",
    "\n",
    "``dbt run --models shop.orders_by_year``"
   ]
  },
  {
   "attachments": {},
   "cell_type": "markdown",
   "id": "037be142",
   "metadata": {},
   "source": [
    "Prints\n",
    "\n",
    "![Comando no Terminal](atividade3/image-1.png)\n",
    "![Comando no Terminal](atividade3/image-2.png)\n",
    "![Comando no Terminal](atividade3/image-3.png)\n"
   ]
  },
  {
   "attachments": {},
   "cell_type": "markdown",
   "id": "aa520524",
   "metadata": {},
   "source": [
    "2. Crie uma `view` que agrega os totais de pedidos por estado. Considere as tabelas _customers_ para obter os estados (coluna _customer_state_) e _orders_ para contabilizar a quantidade de pedidos."
   ]
  },
  {
   "attachments": {},
   "cell_type": "markdown",
   "id": "5423d80e",
   "metadata": {},
   "source": [
    "A query SQL\n",
    "\n",
    "pedidos_por_estado.sql\n",
    "   \n",
    "   ```sql\n",
    "{{ config(materialized='view') }}\n",
    "\n",
    "    SELECT\n",
    "        customers.customer_state AS state, \n",
    "        count(order_id) AS num_orders \n",
    "    FROM \n",
    "        `dbt_shop.customers` AS customers\n",
    "    INNER JOIN `dbt_shop.orders` AS orders\n",
    "    ON customers.customer_id = orders.customer_id\n",
    "    GROUP BY 1\n",
    "    ORDER BY 1\n",
    "```"
   ]
  },
  {
   "cell_type": "markdown",
   "id": "7ce8cd16",
   "metadata": {},
   "source": [
    "Comando utilizado via terminal no dbt\n",
    "\n",
    "``dbt run --models shop.pedidos_por_estado``"
   ]
  },
  {
   "attachments": {},
   "cell_type": "markdown",
   "id": "49ce2622",
   "metadata": {},
   "source": [
    "Prints\n",
    "\n",
    "![Comando no Terminal](atividade3/image-4.png)\n",
    "![Comando no Terminal](atividade3/image-5.png)\n",
    "![Comando no Terminal](atividade3/image-6.png)"
   ]
  },
  {
   "attachments": {},
   "cell_type": "markdown",
   "id": "54e0e5f1",
   "metadata": {},
   "source": [
    "3. De acordo com o resultado do exercício 2 retorne apenas os estados que tem mais de 5000 pedidos, esse número deve ser passado via variável `number_of_orders` do `dbt`."
   ]
  },
  {
   "attachments": {},
   "cell_type": "markdown",
   "id": "214d7381",
   "metadata": {},
   "source": [
    "A query SQL\n",
    "\n",
    "pedidos_por_estado_variavel.sql\n",
    "   \n",
    "   ```sql\n",
    "{{ config(materialized='view') }}\n",
    "\n",
    "    SELECT\n",
    "        customers.customer_state AS state, \n",
    "        count(order_id) AS num_orders \n",
    "    FROM \n",
    "        `dbt_shop.customers` AS customers\n",
    "    INNER JOIN `dbt_shop.orders` AS orders\n",
    "    ON customers.customer_id = orders.customer_id\n",
    "    GROUP BY 1\n",
    "    HAVING num_orders > {{ var(\"number_of_orders\") }}\n",
    "    ORDER BY 1\n",
    "```"
   ]
  },
  {
   "attachments": {},
   "cell_type": "markdown",
   "id": "5c9c048c",
   "metadata": {},
   "source": [
    "Comando utilizado via terminal no dbt\n",
    "\n",
    "``dbt run --models shop.pedidos_por_estado_variavel --vars \"{'number_of_orders': '5000'}\"``"
   ]
  },
  {
   "attachments": {},
   "cell_type": "markdown",
   "id": "8c9de483",
   "metadata": {},
   "source": [
    "Prints\n",
    "\n",
    "![Comando no Terminal](atividade3/image-7.png)\n",
    "![Comando no Terminal](atividade3/image-8.png)\n",
    "![Comando no Terminal](atividade3/image-9.png)\n"
   ]
  },
  {
   "attachments": {},
   "cell_type": "markdown",
   "id": "9c3ad0cc",
   "metadata": {},
   "source": [
    "4. Crie uma `view` chamada `customers_by_region` que utiliza os dados da tabela `customers`. A visão deve realizar uma agregação por região do Brasil (Norte, Nordeste, Sudeste, Centro Oeste e Sul) e contar o número de clientes em cada uma delas."
   ]
  },
  {
   "attachments": {},
   "cell_type": "markdown",
   "id": "a6fe3580",
   "metadata": {},
   "source": [
    "A query SQL\n",
    "\n",
    "customers_by_region.sql\n",
    "   \n",
    "   ```sql\n",
    "{{ config(materialized='view') }}\n",
    "\n",
    "    SELECT region.region as region,\n",
    "        sum(region.customers) as customers\n",
    "    FROM \n",
    "        (SELECT\n",
    "            customer_state AS state, \n",
    "            count(customer_id) AS customers,\n",
    "            CASE \n",
    "            WHEN customer_state IN ('AC','AP','AM','PA','RO','RR','TO') THEN 'Norte'\n",
    "            WHEN customer_state IN ('AL','BA','CE','MA','PB','PE','PI','RN','SE') THEN 'Nordeste'\n",
    "            WHEN customer_state IN ('ES','MG','RJ','SP') THEN 'Sudeste'\n",
    "            WHEN customer_state IN ('DF','GO','MT','MS') THEN 'Centro Oeste'\n",
    "            WHEN customer_state IN ('PR','RS','SC') THEN 'Sul'\n",
    "            END AS region\n",
    "\n",
    "        FROM \n",
    "            `dbt_shop.customers` AS customers\n",
    "        GROUP BY 1\n",
    "        ORDER BY 1) AS region\n",
    "    GROUP BY region\n",
    "```"
   ]
  },
  {
   "attachments": {},
   "cell_type": "markdown",
   "id": "3f3d8f24",
   "metadata": {},
   "source": [
    "Comando utilizado via terminal no dbt\n",
    "\n",
    "``dbt run --models shop.customers_by_region``\n"
   ]
  },
  {
   "cell_type": "markdown",
   "id": "cfb5edd6",
   "metadata": {},
   "source": [
    "Prints\n",
    "\n",
    "![Comando no Terminal](atividade3/image-10.png)\n",
    "![Comando no Terminal](atividade3/image-11.png)\n",
    "![Comando no Terminal](atividade3/image-12.png)"
   ]
  },
  {
   "attachments": {},
   "cell_type": "markdown",
   "id": "d4c16290",
   "metadata": {},
   "source": [
    "5. Crie uma tabela `items_costs` que contenha o preço total de um item (soma do valor do produto com o frete)."
   ]
  },
  {
   "attachments": {},
   "cell_type": "markdown",
   "id": "66833325",
   "metadata": {},
   "source": [
    "A query SQL\n",
    "\n",
    "items_costs.sql\n",
    "   \n",
    "   ```sql\n",
    "{{ config(materialized='table') }}\n",
    "\n",
    "      SELECT *,\n",
    "            price + freight_value as total_price\n",
    "      FROM `dbt_shop.items`  \n",
    "```"
   ]
  },
  {
   "attachments": {},
   "cell_type": "markdown",
   "id": "1608bc83",
   "metadata": {},
   "source": [
    "Comando utilizado via terminal no dbt\n",
    "\n",
    "``dbt run --models shop.items_costs``\n"
   ]
  },
  {
   "attachments": {},
   "cell_type": "markdown",
   "id": "17cca8eb",
   "metadata": {},
   "source": [
    "Prints\n",
    "\n",
    "![Comando no Terminal](atividade3/image-13.png)\n",
    "![Comando no Terminal](atividade3/image-14.png)\n",
    "![Comando no Terminal](atividade3/image-15.png)"
   ]
  },
  {
   "attachments": {},
   "cell_type": "markdown",
   "id": "08cc4c02",
   "metadata": {},
   "source": [
    "6. Crie uma `view` com o nome `orders_shipped_costs`, você deve calcular o preço total do pedido somado com o frete, apenas para pedidos enviado (shipped)."
   ]
  },
  {
   "attachments": {},
   "cell_type": "markdown",
   "id": "5d454ab7",
   "metadata": {},
   "source": [
    "A query SQL\n",
    "\n",
    "orders_shipped_costs.sql\n",
    "   \n",
    "   ```sql\n",
    "{{ config(materialized='view') }}\n",
    "\n",
    "WITH frete AS\n",
    "  (SELECT DISTINCT\n",
    "      orders.order_id as order_id,\n",
    "      items.freight_value as frete \n",
    "  FROM \n",
    "      `dbt_shop.orders` AS orders\n",
    " INNER JOIN `dbt_shop.items` AS items\n",
    "    ON orders.order_id = items.order_id\n",
    " GROUP BY 1,2\n",
    " ORDER BY 1)\n",
    "\n",
    " SELECT\n",
    "     orders.order_id,\n",
    "     sum(items.price) + sum(frete.frete) as total_price\n",
    " FROM \n",
    "     `dbt_shop.orders` AS orders\n",
    " INNER JOIN `dbt_shop.items` AS items\n",
    " ON orders.order_id = items.order_id\n",
    " INNER JOIN frete as frete\n",
    " ON orders.order_id = frete.order_id\n",
    " WHERE orders.order_status = 'shipped'\n",
    " GROUP BY 1\n",
    " ORDER BY 1\n",
    "```"
   ]
  },
  {
   "cell_type": "markdown",
   "id": "a396e7d2",
   "metadata": {},
   "source": [
    "Comando utilizado via terminal no dbt\n",
    "\n",
    "``dbt run --models shop.orders_shipped_costs``\n",
    "\n"
   ]
  },
  {
   "cell_type": "markdown",
   "id": "a2b5c296",
   "metadata": {},
   "source": [
    "Prints\n",
    "\n",
    "![Comando no Terminal](atividade3/image-16.png)\n",
    "![Comando no Terminal](atividade3/image-17.png)\n",
    "![Comando no Terminal](atividade3/image-18.png)\n",
    "\n"
   ]
  }
 ],
 "metadata": {
  "kernelspec": {
   "display_name": "Python 3",
   "language": "python",
   "name": "python3"
  },
  "language_info": {
   "codemirror_mode": {
    "name": "ipython",
    "version": 3
   },
   "file_extension": ".py",
   "mimetype": "text/x-python",
   "name": "python",
   "nbconvert_exporter": "python",
   "pygments_lexer": "ipython3",
   "version": "3.9.1"
  }
 },
 "nbformat": 4,
 "nbformat_minor": 5
}
